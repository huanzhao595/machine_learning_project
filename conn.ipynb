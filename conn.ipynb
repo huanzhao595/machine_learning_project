{
 "cells": [
  {
   "cell_type": "code",
   "execution_count": null,
   "metadata": {},
   "outputs": [],
   "source": [
    "import pandas as pd\n",
    "import numpy as np"
   ]
  },
  {
   "cell_type": "code",
   "execution_count": null,
   "metadata": {},
   "outputs": [],
   "source": [
    "filename = \"./datasciense/data/conn.dat\"\n",
    "df = pd.read_csv(filename, sep='\\t')\n",
    "print(df.head())\n",
    "\n",
    "print(df.shape) # (197505, 21)\n",
    "\n",
    "print(df.columns.tolist())"
   ]
  }
 ],
 "metadata": {
  "language_info": {
   "name": "python"
  },
  "orig_nbformat": 4
 },
 "nbformat": 4,
 "nbformat_minor": 2
}
